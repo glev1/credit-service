{
 "cells": [
  {
   "cell_type": "code",
   "execution_count": 2,
   "id": "96087c89",
   "metadata": {},
   "outputs": [],
   "source": [
    "import pandas as pd\n",
    "import matplotlib.pyplot as plt\n",
    "import seaborn as sns\n",
    "import numpy as np\n",
    "\n",
    "import sklearn\n",
    "from sklearn.base import BaseEstimator, TransformerMixin\n",
    "from sklearn.pipeline import Pipeline, FeatureUnion\n",
    "from sklearn.preprocessing import StandardScaler\n",
    "from sklearn.impute import SimpleImputer, MissingIndicator\n",
    "from sklearn.compose import ColumnTransformer\n",
    "\n",
    "from sklearn.linear_model import LogisticRegression\n",
    "from sklearn.tree import DecisionTreeClassifier\n",
    "from sklearn.svm import LinearSVC\n",
    "from sklearn.model_selection import cross_val_score, cross_val_predict, GridSearchCV\n",
    "from sklearn.metrics import confusion_matrix, roc_auc_score\n",
    "\n",
    "from xgboost import XGBClassifier, plot_importance"
   ]
  },
  {
   "cell_type": "code",
   "execution_count": 3,
   "id": "4051507f",
   "metadata": {},
   "outputs": [],
   "source": [
    "raw_df = pd.read_csv('../datasets/cs-training.csv', index_col=0)"
   ]
  },
  {
   "cell_type": "code",
   "execution_count": 4,
   "id": "349dc651",
   "metadata": {},
   "outputs": [],
   "source": [
    "y = raw_df['SeriousDlqin2yrs']"
   ]
  },
  {
   "cell_type": "markdown",
   "id": "5b3f82b3",
   "metadata": {},
   "source": [
    "# Preprocessing "
   ]
  },
  {
   "cell_type": "code",
   "execution_count": 5,
   "id": "240e6ec0",
   "metadata": {},
   "outputs": [],
   "source": [
    "STRAT_IMPUTER_NUM = \"median\"\n",
    "STRAT_IMPUTER_CAT = \"most_frequent\"\n",
    "\n",
    "num_pipeline = Pipeline([\n",
    "  #  ('indicator', MissingIndicator()),\n",
    "    ('imputer', SimpleImputer(strategy=STRAT_IMPUTER_NUM)),\n",
    "    ('std_scaler', StandardScaler())\n",
    "])\n",
    "\n",
    "cat_pipeline = Pipeline([\n",
    "   # ('indicator', MissingIndicator()),\n",
    "    ('imputer', SimpleImputer(strategy=STRAT_IMPUTER_CAT))\n",
    "])"
   ]
  },
  {
   "cell_type": "code",
   "execution_count": 6,
   "id": "c78f2e13",
   "metadata": {},
   "outputs": [],
   "source": [
    "cat_features = ['age', 'NumberOfTime30-59DaysPastDueNotWorse',\n",
    "                                     'NumberOfOpenCreditLinesAndLoans', 'NumberOfTimes90DaysLate',\n",
    "                                     'NumberRealEstateLoansOrLines', 'NumberOfTime60-89DaysPastDueNotWorse',\n",
    "                                     'NumberOfDependents']\n",
    "\n",
    "num_features = ['RevolvingUtilizationOfUnsecuredLines', 'DebtRatio', 'MonthlyIncome']\n",
    "\n",
    "\n",
    "full_pipeline = ColumnTransformer([\n",
    "    (\"num\", num_pipeline, num_features),\n",
    "    (\"cat\", cat_pipeline, cat_features)\n",
    "]) "
   ]
  },
  {
   "cell_type": "code",
   "execution_count": 7,
   "id": "37c65db3",
   "metadata": {},
   "outputs": [],
   "source": [
    "X = pd.DataFrame(full_pipeline.fit_transform(raw_df.copy()),\n",
    "                           columns=num_features+cat_features)"
   ]
  },
  {
   "cell_type": "code",
   "execution_count": 8,
   "id": "3b28a5fa",
   "metadata": {},
   "outputs": [
    {
     "data": {
      "text/html": [
       "<div>\n",
       "<style scoped>\n",
       "    .dataframe tbody tr th:only-of-type {\n",
       "        vertical-align: middle;\n",
       "    }\n",
       "\n",
       "    .dataframe tbody tr th {\n",
       "        vertical-align: top;\n",
       "    }\n",
       "\n",
       "    .dataframe thead th {\n",
       "        text-align: right;\n",
       "    }\n",
       "</style>\n",
       "<table border=\"1\" class=\"dataframe\">\n",
       "  <thead>\n",
       "    <tr style=\"text-align: right;\">\n",
       "      <th></th>\n",
       "      <th>RevolvingUtilizationOfUnsecuredLines</th>\n",
       "      <th>DebtRatio</th>\n",
       "      <th>MonthlyIncome</th>\n",
       "      <th>age</th>\n",
       "      <th>NumberOfTime30-59DaysPastDueNotWorse</th>\n",
       "      <th>NumberOfOpenCreditLinesAndLoans</th>\n",
       "      <th>NumberOfTimes90DaysLate</th>\n",
       "      <th>NumberRealEstateLoansOrLines</th>\n",
       "      <th>NumberOfTime60-89DaysPastDueNotWorse</th>\n",
       "      <th>NumberOfDependents</th>\n",
       "    </tr>\n",
       "  </thead>\n",
       "  <tbody>\n",
       "    <tr>\n",
       "      <th>0</th>\n",
       "      <td>-0.021150</td>\n",
       "      <td>-0.172833</td>\n",
       "      <td>0.209579</td>\n",
       "      <td>45.0</td>\n",
       "      <td>2.0</td>\n",
       "      <td>13.0</td>\n",
       "      <td>0.0</td>\n",
       "      <td>6.0</td>\n",
       "      <td>0.0</td>\n",
       "      <td>2.0</td>\n",
       "    </tr>\n",
       "    <tr>\n",
       "      <th>1</th>\n",
       "      <td>-0.020385</td>\n",
       "      <td>-0.173168</td>\n",
       "      <td>-0.296226</td>\n",
       "      <td>40.0</td>\n",
       "      <td>0.0</td>\n",
       "      <td>4.0</td>\n",
       "      <td>0.0</td>\n",
       "      <td>0.0</td>\n",
       "      <td>0.0</td>\n",
       "      <td>1.0</td>\n",
       "    </tr>\n",
       "    <tr>\n",
       "      <th>2</th>\n",
       "      <td>-0.021582</td>\n",
       "      <td>-0.173186</td>\n",
       "      <td>-0.261937</td>\n",
       "      <td>38.0</td>\n",
       "      <td>1.0</td>\n",
       "      <td>2.0</td>\n",
       "      <td>1.0</td>\n",
       "      <td>0.0</td>\n",
       "      <td>0.0</td>\n",
       "      <td>0.0</td>\n",
       "    </tr>\n",
       "    <tr>\n",
       "      <th>3</th>\n",
       "      <td>-0.023281</td>\n",
       "      <td>-0.173210</td>\n",
       "      <td>-0.241922</td>\n",
       "      <td>30.0</td>\n",
       "      <td>0.0</td>\n",
       "      <td>5.0</td>\n",
       "      <td>0.0</td>\n",
       "      <td>0.0</td>\n",
       "      <td>0.0</td>\n",
       "      <td>0.0</td>\n",
       "    </tr>\n",
       "    <tr>\n",
       "      <th>4</th>\n",
       "      <td>-0.020585</td>\n",
       "      <td>-0.173215</td>\n",
       "      <td>4.435064</td>\n",
       "      <td>49.0</td>\n",
       "      <td>1.0</td>\n",
       "      <td>7.0</td>\n",
       "      <td>0.0</td>\n",
       "      <td>1.0</td>\n",
       "      <td>0.0</td>\n",
       "      <td>0.0</td>\n",
       "    </tr>\n",
       "    <tr>\n",
       "      <th>...</th>\n",
       "      <td>...</td>\n",
       "      <td>...</td>\n",
       "      <td>...</td>\n",
       "      <td>...</td>\n",
       "      <td>...</td>\n",
       "      <td>...</td>\n",
       "      <td>...</td>\n",
       "      <td>...</td>\n",
       "      <td>...</td>\n",
       "      <td>...</td>\n",
       "    </tr>\n",
       "    <tr>\n",
       "      <th>149995</th>\n",
       "      <td>-0.024055</td>\n",
       "      <td>-0.173117</td>\n",
       "      <td>-0.335014</td>\n",
       "      <td>74.0</td>\n",
       "      <td>0.0</td>\n",
       "      <td>4.0</td>\n",
       "      <td>0.0</td>\n",
       "      <td>1.0</td>\n",
       "      <td>0.0</td>\n",
       "      <td>0.0</td>\n",
       "    </tr>\n",
       "    <tr>\n",
       "      <th>149996</th>\n",
       "      <td>-0.023017</td>\n",
       "      <td>-0.172876</td>\n",
       "      <td>-0.064735</td>\n",
       "      <td>44.0</td>\n",
       "      <td>0.0</td>\n",
       "      <td>4.0</td>\n",
       "      <td>0.0</td>\n",
       "      <td>1.0</td>\n",
       "      <td>0.0</td>\n",
       "      <td>2.0</td>\n",
       "    </tr>\n",
       "    <tr>\n",
       "      <th>149997</th>\n",
       "      <td>-0.023232</td>\n",
       "      <td>1.725868</td>\n",
       "      <td>-0.079009</td>\n",
       "      <td>58.0</td>\n",
       "      <td>0.0</td>\n",
       "      <td>18.0</td>\n",
       "      <td>0.0</td>\n",
       "      <td>1.0</td>\n",
       "      <td>0.0</td>\n",
       "      <td>0.0</td>\n",
       "    </tr>\n",
       "    <tr>\n",
       "      <th>149998</th>\n",
       "      <td>-0.024218</td>\n",
       "      <td>-0.173228</td>\n",
       "      <td>-0.054495</td>\n",
       "      <td>30.0</td>\n",
       "      <td>0.0</td>\n",
       "      <td>4.0</td>\n",
       "      <td>0.0</td>\n",
       "      <td>0.0</td>\n",
       "      <td>0.0</td>\n",
       "      <td>0.0</td>\n",
       "    </tr>\n",
       "    <tr>\n",
       "      <th>149999</th>\n",
       "      <td>-0.020813</td>\n",
       "      <td>-0.173105</td>\n",
       "      <td>0.134949</td>\n",
       "      <td>64.0</td>\n",
       "      <td>0.0</td>\n",
       "      <td>8.0</td>\n",
       "      <td>0.0</td>\n",
       "      <td>2.0</td>\n",
       "      <td>0.0</td>\n",
       "      <td>0.0</td>\n",
       "    </tr>\n",
       "  </tbody>\n",
       "</table>\n",
       "<p>150000 rows × 10 columns</p>\n",
       "</div>"
      ],
      "text/plain": [
       "        RevolvingUtilizationOfUnsecuredLines  DebtRatio  MonthlyIncome   age  \\\n",
       "0                                  -0.021150  -0.172833       0.209579  45.0   \n",
       "1                                  -0.020385  -0.173168      -0.296226  40.0   \n",
       "2                                  -0.021582  -0.173186      -0.261937  38.0   \n",
       "3                                  -0.023281  -0.173210      -0.241922  30.0   \n",
       "4                                  -0.020585  -0.173215       4.435064  49.0   \n",
       "...                                      ...        ...            ...   ...   \n",
       "149995                             -0.024055  -0.173117      -0.335014  74.0   \n",
       "149996                             -0.023017  -0.172876      -0.064735  44.0   \n",
       "149997                             -0.023232   1.725868      -0.079009  58.0   \n",
       "149998                             -0.024218  -0.173228      -0.054495  30.0   \n",
       "149999                             -0.020813  -0.173105       0.134949  64.0   \n",
       "\n",
       "        NumberOfTime30-59DaysPastDueNotWorse  NumberOfOpenCreditLinesAndLoans  \\\n",
       "0                                        2.0                             13.0   \n",
       "1                                        0.0                              4.0   \n",
       "2                                        1.0                              2.0   \n",
       "3                                        0.0                              5.0   \n",
       "4                                        1.0                              7.0   \n",
       "...                                      ...                              ...   \n",
       "149995                                   0.0                              4.0   \n",
       "149996                                   0.0                              4.0   \n",
       "149997                                   0.0                             18.0   \n",
       "149998                                   0.0                              4.0   \n",
       "149999                                   0.0                              8.0   \n",
       "\n",
       "        NumberOfTimes90DaysLate  NumberRealEstateLoansOrLines  \\\n",
       "0                           0.0                           6.0   \n",
       "1                           0.0                           0.0   \n",
       "2                           1.0                           0.0   \n",
       "3                           0.0                           0.0   \n",
       "4                           0.0                           1.0   \n",
       "...                         ...                           ...   \n",
       "149995                      0.0                           1.0   \n",
       "149996                      0.0                           1.0   \n",
       "149997                      0.0                           1.0   \n",
       "149998                      0.0                           0.0   \n",
       "149999                      0.0                           2.0   \n",
       "\n",
       "        NumberOfTime60-89DaysPastDueNotWorse  NumberOfDependents  \n",
       "0                                        0.0                 2.0  \n",
       "1                                        0.0                 1.0  \n",
       "2                                        0.0                 0.0  \n",
       "3                                        0.0                 0.0  \n",
       "4                                        0.0                 0.0  \n",
       "...                                      ...                 ...  \n",
       "149995                                   0.0                 0.0  \n",
       "149996                                   0.0                 2.0  \n",
       "149997                                   0.0                 0.0  \n",
       "149998                                   0.0                 0.0  \n",
       "149999                                   0.0                 0.0  \n",
       "\n",
       "[150000 rows x 10 columns]"
      ]
     },
     "execution_count": 8,
     "metadata": {},
     "output_type": "execute_result"
    }
   ],
   "source": [
    "X"
   ]
  },
  {
   "cell_type": "markdown",
   "id": "b7811f71",
   "metadata": {},
   "source": [
    "# Model"
   ]
  },
  {
   "cell_type": "markdown",
   "id": "5ae4e7f1",
   "metadata": {},
   "source": [
    "## Logistic Regresion"
   ]
  },
  {
   "cell_type": "code",
   "execution_count": 91,
   "id": "4a9bab85",
   "metadata": {},
   "outputs": [],
   "source": [
    "log_reg = LogisticRegression(max_iter=1000)"
   ]
  },
  {
   "cell_type": "code",
   "execution_count": 92,
   "id": "9944ac84",
   "metadata": {},
   "outputs": [],
   "source": [
    "scores_log_reg = cross_val_score(log_reg, X, y,\n",
    "                        scoring='roc_auc', cv = 10)"
   ]
  },
  {
   "cell_type": "code",
   "execution_count": 103,
   "id": "530fd0e6",
   "metadata": {},
   "outputs": [],
   "source": [
    "def display_scores(scores):\n",
    "    print(f\"Scores: {scores}\")\n",
    "    print(f\"Mean: {scores.mean()}\")\n",
    "    print(f\"Std deviation: {scores.std()}\")"
   ]
  },
  {
   "cell_type": "code",
   "execution_count": 100,
   "id": "81de37bc",
   "metadata": {},
   "outputs": [
    {
     "name": "stdout",
     "output_type": "stream",
     "text": [
      "Scores: [0.68532553 0.69819088 0.69772525 0.69308236 0.69398869 0.70756727\n",
      " 0.70018785 0.70360889 0.70642167 0.697069  ]\n",
      "Mean: 0.6983167394288394\n",
      "Std deviation: 0.0063213511009642415\n"
     ]
    }
   ],
   "source": [
    "display_scores(scores_log_reg)"
   ]
  },
  {
   "cell_type": "markdown",
   "id": "b2cc868f",
   "metadata": {},
   "source": [
    "## Decision Trees"
   ]
  },
  {
   "cell_type": "code",
   "execution_count": 101,
   "id": "35de2460",
   "metadata": {},
   "outputs": [],
   "source": [
    "tree_class = DecisionTreeClassifier()\n",
    "scores_dtree = cross_val_score(tree_class, X, y,\n",
    "                              scoring='roc_auc', cv = 10)"
   ]
  },
  {
   "cell_type": "code",
   "execution_count": 104,
   "id": "ecf67907",
   "metadata": {},
   "outputs": [
    {
     "name": "stdout",
     "output_type": "stream",
     "text": [
      "Scores: [0.6104833  0.60885978 0.61244928 0.61338671 0.61520144 0.61887756\n",
      " 0.62191405 0.62221549 0.59948395 0.62393166]\n",
      "Mean: 0.6146803231750305\n",
      "Std deviation: 0.007082765427103151\n"
     ]
    }
   ],
   "source": [
    "display_scores(scores_dtree)"
   ]
  },
  {
   "cell_type": "markdown",
   "id": "0136afae",
   "metadata": {},
   "source": [
    "## SVM"
   ]
  },
  {
   "cell_type": "code",
   "execution_count": 123,
   "id": "ff2367f6",
   "metadata": {
    "collapsed": true
   },
   "outputs": [
    {
     "name": "stderr",
     "output_type": "stream",
     "text": [
      "/home/glevi/anaconda3/lib/python3.9/site-packages/sklearn/svm/_base.py:985: ConvergenceWarning: Liblinear failed to converge, increase the number of iterations.\n",
      "  warnings.warn(\"Liblinear failed to converge, increase \"\n",
      "/home/glevi/anaconda3/lib/python3.9/site-packages/sklearn/svm/_base.py:985: ConvergenceWarning: Liblinear failed to converge, increase the number of iterations.\n",
      "  warnings.warn(\"Liblinear failed to converge, increase \"\n",
      "/home/glevi/anaconda3/lib/python3.9/site-packages/sklearn/svm/_base.py:985: ConvergenceWarning: Liblinear failed to converge, increase the number of iterations.\n",
      "  warnings.warn(\"Liblinear failed to converge, increase \"\n",
      "/home/glevi/anaconda3/lib/python3.9/site-packages/sklearn/svm/_base.py:985: ConvergenceWarning: Liblinear failed to converge, increase the number of iterations.\n",
      "  warnings.warn(\"Liblinear failed to converge, increase \"\n",
      "/home/glevi/anaconda3/lib/python3.9/site-packages/sklearn/svm/_base.py:985: ConvergenceWarning: Liblinear failed to converge, increase the number of iterations.\n",
      "  warnings.warn(\"Liblinear failed to converge, increase \"\n",
      "/home/glevi/anaconda3/lib/python3.9/site-packages/sklearn/svm/_base.py:985: ConvergenceWarning: Liblinear failed to converge, increase the number of iterations.\n",
      "  warnings.warn(\"Liblinear failed to converge, increase \"\n",
      "/home/glevi/anaconda3/lib/python3.9/site-packages/sklearn/svm/_base.py:985: ConvergenceWarning: Liblinear failed to converge, increase the number of iterations.\n",
      "  warnings.warn(\"Liblinear failed to converge, increase \"\n",
      "/home/glevi/anaconda3/lib/python3.9/site-packages/sklearn/svm/_base.py:985: ConvergenceWarning: Liblinear failed to converge, increase the number of iterations.\n",
      "  warnings.warn(\"Liblinear failed to converge, increase \"\n",
      "/home/glevi/anaconda3/lib/python3.9/site-packages/sklearn/svm/_base.py:985: ConvergenceWarning: Liblinear failed to converge, increase the number of iterations.\n",
      "  warnings.warn(\"Liblinear failed to converge, increase \"\n",
      "/home/glevi/anaconda3/lib/python3.9/site-packages/sklearn/svm/_base.py:985: ConvergenceWarning: Liblinear failed to converge, increase the number of iterations.\n",
      "  warnings.warn(\"Liblinear failed to converge, increase \"\n"
     ]
    }
   ],
   "source": [
    "svm_clf = LinearSVC(tol=1e-3)\n",
    "scores_svm = cross_val_score(svm_clf, X, y,\n",
    "                              scoring='roc_auc', cv = 10)"
   ]
  },
  {
   "cell_type": "code",
   "execution_count": 124,
   "id": "8d8b3ae7",
   "metadata": {},
   "outputs": [
    {
     "name": "stdout",
     "output_type": "stream",
     "text": [
      "Scores: [0.65294158 0.73742931 0.67762758 0.67878788 0.70655534 0.72773068\n",
      " 0.67037507 0.69488851 0.69567676 0.64327539]\n",
      "Mean: 0.6885288108198099\n",
      "Std deviation: 0.02863938668107729\n"
     ]
    }
   ],
   "source": [
    "display_scores(scores_svm)"
   ]
  },
  {
   "cell_type": "markdown",
   "id": "dde54139",
   "metadata": {},
   "source": [
    "## XGBoost"
   ]
  },
  {
   "cell_type": "code",
   "execution_count": 116,
   "id": "a04f8502",
   "metadata": {},
   "outputs": [],
   "source": [
    "xgb_class = XGBClassifier(use_label_encoder=False, eval_metric='logloss')\n",
    "scores_xgb = cross_val_score(xgb_class, X, y,\n",
    "                              scoring='roc_auc', cv = 10)"
   ]
  },
  {
   "cell_type": "code",
   "execution_count": 117,
   "id": "3f15b149",
   "metadata": {},
   "outputs": [
    {
     "name": "stdout",
     "output_type": "stream",
     "text": [
      "Scores: [0.85239883 0.86328879 0.85534715 0.85941326 0.85914372 0.86251231\n",
      " 0.85702498 0.85859625 0.86176172 0.87139844]\n",
      "Mean: 0.8600885449259185\n",
      "Std deviation: 0.004913277221155152\n"
     ]
    }
   ],
   "source": [
    "display_scores(scores_xgb)"
   ]
  },
  {
   "cell_type": "markdown",
   "id": "2868d597",
   "metadata": {},
   "source": [
    "### Confusion Matrix"
   ]
  },
  {
   "cell_type": "code",
   "execution_count": 141,
   "id": "6d3fee5d",
   "metadata": {},
   "outputs": [],
   "source": [
    "xgb_predicts = cross_val_predict(xgb_class, X, y, cv = 3)"
   ]
  },
  {
   "cell_type": "code",
   "execution_count": 147,
   "id": "b99bd773",
   "metadata": {},
   "outputs": [
    {
     "data": {
      "text/plain": [
       "<AxesSubplot:>"
      ]
     },
     "execution_count": 147,
     "metadata": {},
     "output_type": "execute_result"
    },
    {
     "data": {
      "image/png": "[encoded data removed]",
      "text/plain": [
       "<Figure size 432x288 with 2 Axes>"
      ]
     },
     "metadata": {
      "needs_background": "light"
     },
     "output_type": "display_data"
    }
   ],
   "source": [
    "conf_mx = confusion_matrix(y, xgb_predicts)\n",
    "\n",
    "sns.heatmap(conf_mx, annot = True)"
   ]
  },
  {
   "cell_type": "markdown",
   "id": "e0e0644d",
   "metadata": {},
   "source": [
    "### Feature Importance"
   ]
  },
  {
   "cell_type": "code",
   "execution_count": 143,
   "id": "0c2bf6cf",
   "metadata": {},
   "outputs": [
    {
     "data": {
      "text/plain": [
       "array([0.09676119, 0.02522485, 0.02249623, 0.02569347, 0.1477088 ,\n",
       "       0.02563391, 0.5150754 , 0.03190425, 0.08895302, 0.02054889],\n",
       "      dtype=float32)"
      ]
     },
     "execution_count": 143,
     "metadata": {},
     "output_type": "execute_result"
    }
   ],
   "source": [
    "xgb_class.fit(X, y)"
   ]
  },
  {
   "cell_type": "code",
   "execution_count": 146,
   "id": "891f7cb7",
   "metadata": {},
   "outputs": [
    {
     "data": {
      "image/png": "[encoded data removed]",
      "text/plain": [
       "<Figure size 432x288 with 1 Axes>"
      ]
     },
     "metadata": {
      "needs_background": "light"
     },
     "output_type": "display_data"
    }
   ],
   "source": [
    "plot_importance(xgb_class)\n",
    "plt.show()"
   ]
  },
  {
   "cell_type": "markdown",
   "id": "d4577f56",
   "metadata": {},
   "source": [
    "### Fine-Tunning"
   ]
  },
  {
   "cell_type": "code",
   "execution_count": 149,
   "id": "f468b82d",
   "metadata": {},
   "outputs": [],
   "source": [
    "param_grid = [{\n",
    "    'n_estimators': [30, 100, 300],\n",
    "    'max_depth': [3, 4, 5],\n",
    "    'learning_rate': [0.03, 0.1, 0.3]\n",
    "}]"
   ]
  },
  {
   "cell_type": "code",
   "execution_count": 151,
   "id": "7084fbf1",
   "metadata": {
    "collapsed": true
   },
   "outputs": [
    {
     "name": "stdout",
     "output_type": "stream",
     "text": [
      "Fitting 5 folds for each of 27 candidates, totalling 135 fits\n",
      "[CV 1/5] END learning_rate=0.03, max_depth=3, n_estimators=30;, score=(train=0.839, test=0.832) total time=   0.7s\n",
      "[CV 2/5] END learning_rate=0.03, max_depth=3, n_estimators=30;, score=(train=0.840, test=0.836) total time=   0.7s\n",
      "[CV 3/5] END learning_rate=0.03, max_depth=3, n_estimators=30;, score=(train=0.840, test=0.837) total time=   0.7s\n",
      "[CV 4/5] END learning_rate=0.03, max_depth=3, n_estimators=30;, score=(train=0.842, test=0.841) total time=   0.7s\n",
      "[CV 5/5] END learning_rate=0.03, max_depth=3, n_estimators=30;, score=(train=0.838, test=0.844) total time=   0.7s\n",
      "[CV 1/5] END learning_rate=0.03, max_depth=3, n_estimators=100;, score=(train=0.853, test=0.847) total time=   3.2s\n",
      "[CV 2/5] END learning_rate=0.03, max_depth=3, n_estimators=100;, score=(train=0.854, test=0.848) total time=   2.3s\n",
      "[CV 3/5] END learning_rate=0.03, max_depth=3, n_estimators=100;, score=(train=0.851, test=0.850) total time=   3.2s\n",
      "[CV 4/5] END learning_rate=0.03, max_depth=3, n_estimators=100;, score=(train=0.852, test=0.849) total time=   2.2s\n",
      "[CV 5/5] END learning_rate=0.03, max_depth=3, n_estimators=100;, score=(train=0.852, test=0.858) total time=   3.3s\n",
      "[CV 1/5] END learning_rate=0.03, max_depth=3, n_estimators=300;, score=(train=0.869, test=0.861) total time=   7.8s\n",
      "[CV 2/5] END learning_rate=0.03, max_depth=3, n_estimators=300;, score=(train=0.869, test=0.860) total time=  10.1s\n",
      "[CV 3/5] END learning_rate=0.03, max_depth=3, n_estimators=300;, score=(train=0.868, test=0.865) total time=   9.8s\n",
      "[CV 4/5] END learning_rate=0.03, max_depth=3, n_estimators=300;, score=(train=0.869, test=0.863) total time=   8.8s\n",
      "[CV 5/5] END learning_rate=0.03, max_depth=3, n_estimators=300;, score=(train=0.867, test=0.870) total time=   9.7s\n",
      "[CV 1/5] END learning_rate=0.03, max_depth=4, n_estimators=30;, score=(train=0.846, test=0.840) total time=   1.0s\n",
      "[CV 2/5] END learning_rate=0.03, max_depth=4, n_estimators=30;, score=(train=0.847, test=0.844) total time=   1.8s\n",
      "[CV 3/5] END learning_rate=0.03, max_depth=4, n_estimators=30;, score=(train=0.846, test=0.845) total time=   1.5s\n",
      "[CV 4/5] END learning_rate=0.03, max_depth=4, n_estimators=30;, score=(train=0.846, test=0.843) total time=   0.9s\n",
      "[CV 5/5] END learning_rate=0.03, max_depth=4, n_estimators=30;, score=(train=0.844, test=0.850) total time=   1.0s\n",
      "[CV 1/5] END learning_rate=0.03, max_depth=4, n_estimators=100;, score=(train=0.858, test=0.850) total time=   4.9s\n",
      "[CV 2/5] END learning_rate=0.03, max_depth=4, n_estimators=100;, score=(train=0.857, test=0.851) total time=   4.7s\n",
      "[CV 3/5] END learning_rate=0.03, max_depth=4, n_estimators=100;, score=(train=0.858, test=0.855) total time=   4.1s\n",
      "[CV 4/5] END learning_rate=0.03, max_depth=4, n_estimators=100;, score=(train=0.858, test=0.854) total time=   4.6s\n",
      "[CV 5/5] END learning_rate=0.03, max_depth=4, n_estimators=100;, score=(train=0.856, test=0.862) total time=   4.8s\n",
      "[CV 1/5] END learning_rate=0.03, max_depth=4, n_estimators=300;, score=(train=0.874, test=0.862) total time=  14.1s\n",
      "[CV 2/5] END learning_rate=0.03, max_depth=4, n_estimators=300;, score=(train=0.874, test=0.861) total time=  14.0s\n",
      "[CV 3/5] END learning_rate=0.03, max_depth=4, n_estimators=300;, score=(train=0.874, test=0.865) total time=  14.6s\n",
      "[CV 4/5] END learning_rate=0.03, max_depth=4, n_estimators=300;, score=(train=0.874, test=0.864) total time=  14.6s\n",
      "[CV 5/5] END learning_rate=0.03, max_depth=4, n_estimators=300;, score=(train=0.872, test=0.871) total time=  15.3s\n",
      "[CV 1/5] END learning_rate=0.03, max_depth=5, n_estimators=30;, score=(train=0.853, test=0.844) total time=   1.6s\n",
      "[CV 2/5] END learning_rate=0.03, max_depth=5, n_estimators=30;, score=(train=0.855, test=0.848) total time=   2.3s\n",
      "[CV 3/5] END learning_rate=0.03, max_depth=5, n_estimators=30;, score=(train=0.854, test=0.853) total time=   1.1s\n",
      "[CV 4/5] END learning_rate=0.03, max_depth=5, n_estimators=30;, score=(train=0.853, test=0.851) total time=   2.3s\n",
      "[CV 5/5] END learning_rate=0.03, max_depth=5, n_estimators=30;, score=(train=0.853, test=0.858) total time=   2.2s\n",
      "[CV 1/5] END learning_rate=0.03, max_depth=5, n_estimators=100;, score=(train=0.864, test=0.855) total time=   6.0s\n",
      "[CV 2/5] END learning_rate=0.03, max_depth=5, n_estimators=100;, score=(train=0.864, test=0.854) total time=   6.6s\n",
      "[CV 3/5] END learning_rate=0.03, max_depth=5, n_estimators=100;, score=(train=0.863, test=0.859) total time=   6.0s\n",
      "[CV 4/5] END learning_rate=0.03, max_depth=5, n_estimators=100;, score=(train=0.863, test=0.857) total time=   6.1s\n",
      "[CV 5/5] END learning_rate=0.03, max_depth=5, n_estimators=100;, score=(train=0.862, test=0.865) total time=   6.3s\n",
      "[CV 1/5] END learning_rate=0.03, max_depth=5, n_estimators=300;, score=(train=0.880, test=0.863) total time=  19.4s\n",
      "[CV 2/5] END learning_rate=0.03, max_depth=5, n_estimators=300;, score=(train=0.880, test=0.860) total time=  18.7s\n",
      "[CV 3/5] END learning_rate=0.03, max_depth=5, n_estimators=300;, score=(train=0.880, test=0.865) total time=  20.0s\n",
      "[CV 4/5] END learning_rate=0.03, max_depth=5, n_estimators=300;, score=(train=0.880, test=0.865) total time=  19.0s\n",
      "[CV 5/5] END learning_rate=0.03, max_depth=5, n_estimators=300;, score=(train=0.877, test=0.871) total time=  18.3s\n",
      "[CV 1/5] END learning_rate=0.1, max_depth=3, n_estimators=30;, score=(train=0.851, test=0.845) total time=   1.5s\n",
      "[CV 2/5] END learning_rate=0.1, max_depth=3, n_estimators=30;, score=(train=0.852, test=0.848) total time=   1.5s\n",
      "[CV 3/5] END learning_rate=0.1, max_depth=3, n_estimators=30;, score=(train=0.850, test=0.849) total time=   0.9s\n",
      "[CV 4/5] END learning_rate=0.1, max_depth=3, n_estimators=30;, score=(train=0.850, test=0.848) total time=   0.8s\n",
      "[CV 5/5] END learning_rate=0.1, max_depth=3, n_estimators=30;, score=(train=0.850, test=0.856) total time=   1.5s\n",
      "[CV 1/5] END learning_rate=0.1, max_depth=3, n_estimators=100;, score=(train=0.870, test=0.862) total time=   4.5s\n",
      "[CV 2/5] END learning_rate=0.1, max_depth=3, n_estimators=100;, score=(train=0.870, test=0.860) total time=   4.2s\n",
      "[CV 3/5] END learning_rate=0.1, max_depth=3, n_estimators=100;, score=(train=0.870, test=0.865) total time=   3.5s\n",
      "[CV 4/5] END learning_rate=0.1, max_depth=3, n_estimators=100;, score=(train=0.870, test=0.864) total time=   3.6s\n",
      "[CV 5/5] END learning_rate=0.1, max_depth=3, n_estimators=100;, score=(train=0.868, test=0.870) total time=   4.6s\n",
      "[CV 1/5] END learning_rate=0.1, max_depth=3, n_estimators=300;, score=(train=0.878, test=0.863) total time=  11.6s\n",
      "[CV 2/5] END learning_rate=0.1, max_depth=3, n_estimators=300;, score=(train=0.878, test=0.861) total time=  13.0s\n",
      "[CV 3/5] END learning_rate=0.1, max_depth=3, n_estimators=300;, score=(train=0.877, test=0.866) total time=  11.5s\n",
      "[CV 4/5] END learning_rate=0.1, max_depth=3, n_estimators=300;, score=(train=0.877, test=0.865) total time=  11.4s\n",
      "[CV 5/5] END learning_rate=0.1, max_depth=3, n_estimators=300;, score=(train=0.876, test=0.872) total time=  12.6s\n",
      "[CV 1/5] END learning_rate=0.1, max_depth=4, n_estimators=30;, score=(train=0.856, test=0.849) total time=   0.9s\n",
      "[CV 2/5] END learning_rate=0.1, max_depth=4, n_estimators=30;, score=(train=0.858, test=0.851) total time=   1.7s\n",
      "[CV 3/5] END learning_rate=0.1, max_depth=4, n_estimators=30;, score=(train=0.858, test=0.855) total time=   1.9s\n",
      "[CV 4/5] END learning_rate=0.1, max_depth=4, n_estimators=30;, score=(train=0.855, test=0.852) total time=   1.9s\n",
      "[CV 5/5] END learning_rate=0.1, max_depth=4, n_estimators=30;, score=(train=0.854, test=0.859) total time=   0.9s\n",
      "[CV 1/5] END learning_rate=0.1, max_depth=4, n_estimators=100;, score=(train=0.875, test=0.863) total time=   6.0s\n",
      "[CV 2/5] END learning_rate=0.1, max_depth=4, n_estimators=100;, score=(train=0.875, test=0.861) total time=   4.8s\n",
      "[CV 3/5] END learning_rate=0.1, max_depth=4, n_estimators=100;, score=(train=0.875, test=0.865) total time=   4.9s\n",
      "[CV 4/5] END learning_rate=0.1, max_depth=4, n_estimators=100;, score=(train=0.875, test=0.865) total time=   4.8s\n",
      "[CV 5/5] END learning_rate=0.1, max_depth=4, n_estimators=100;, score=(train=0.873, test=0.871) total time=   6.1s\n",
      "[CV 1/5] END learning_rate=0.1, max_depth=4, n_estimators=300;, score=(train=0.887, test=0.862) total time=  15.3s\n"
     ]
    },
    {
     "name": "stdout",
     "output_type": "stream",
     "text": [
      "[CV 2/5] END learning_rate=0.1, max_depth=4, n_estimators=300;, score=(train=0.886, test=0.860) total time=  15.4s\n",
      "[CV 3/5] END learning_rate=0.1, max_depth=4, n_estimators=300;, score=(train=0.885, test=0.864) total time=  15.6s\n",
      "[CV 4/5] END learning_rate=0.1, max_depth=4, n_estimators=300;, score=(train=0.886, test=0.864) total time=  14.8s\n",
      "[CV 5/5] END learning_rate=0.1, max_depth=4, n_estimators=300;, score=(train=0.883, test=0.871) total time=  14.9s\n",
      "[CV 1/5] END learning_rate=0.1, max_depth=5, n_estimators=30;, score=(train=0.863, test=0.853) total time=   2.4s\n",
      "[CV 2/5] END learning_rate=0.1, max_depth=5, n_estimators=30;, score=(train=0.864, test=0.854) total time=   2.4s\n",
      "[CV 3/5] END learning_rate=0.1, max_depth=5, n_estimators=30;, score=(train=0.863, test=0.859) total time=   1.5s\n",
      "[CV 4/5] END learning_rate=0.1, max_depth=5, n_estimators=30;, score=(train=0.862, test=0.857) total time=   2.0s\n",
      "[CV 5/5] END learning_rate=0.1, max_depth=5, n_estimators=30;, score=(train=0.862, test=0.865) total time=   2.4s\n",
      "[CV 1/5] END learning_rate=0.1, max_depth=5, n_estimators=100;, score=(train=0.881, test=0.863) total time=   6.4s\n",
      "[CV 2/5] END learning_rate=0.1, max_depth=5, n_estimators=100;, score=(train=0.882, test=0.861) total time=   6.4s\n",
      "[CV 3/5] END learning_rate=0.1, max_depth=5, n_estimators=100;, score=(train=0.881, test=0.865) total time=   6.4s\n",
      "[CV 4/5] END learning_rate=0.1, max_depth=5, n_estimators=100;, score=(train=0.881, test=0.865) total time=   6.5s\n",
      "[CV 5/5] END learning_rate=0.1, max_depth=5, n_estimators=100;, score=(train=0.879, test=0.872) total time=   7.6s\n",
      "[CV 1/5] END learning_rate=0.1, max_depth=5, n_estimators=300;, score=(train=0.898, test=0.860) total time=  18.7s\n",
      "[CV 2/5] END learning_rate=0.1, max_depth=5, n_estimators=300;, score=(train=0.897, test=0.859) total time=  20.0s\n",
      "[CV 3/5] END learning_rate=0.1, max_depth=5, n_estimators=300;, score=(train=0.896, test=0.863) total time=  18.6s\n",
      "[CV 4/5] END learning_rate=0.1, max_depth=5, n_estimators=300;, score=(train=0.896, test=0.864) total time=  19.9s\n",
      "[CV 5/5] END learning_rate=0.1, max_depth=5, n_estimators=300;, score=(train=0.895, test=0.871) total time=  19.5s\n",
      "[CV 1/5] END learning_rate=0.3, max_depth=3, n_estimators=30;, score=(train=0.869, test=0.861) total time=   0.9s\n",
      "[CV 2/5] END learning_rate=0.3, max_depth=3, n_estimators=30;, score=(train=0.869, test=0.860) total time=   1.5s\n",
      "[CV 3/5] END learning_rate=0.3, max_depth=3, n_estimators=30;, score=(train=0.868, test=0.865) total time=   1.5s\n",
      "[CV 4/5] END learning_rate=0.3, max_depth=3, n_estimators=30;, score=(train=0.868, test=0.863) total time=   1.5s\n",
      "[CV 5/5] END learning_rate=0.3, max_depth=3, n_estimators=30;, score=(train=0.867, test=0.870) total time=   0.9s\n",
      "[CV 1/5] END learning_rate=0.3, max_depth=3, n_estimators=100;, score=(train=0.878, test=0.862) total time=   4.2s\n",
      "[CV 2/5] END learning_rate=0.3, max_depth=3, n_estimators=100;, score=(train=0.878, test=0.861) total time=   4.7s\n",
      "[CV 3/5] END learning_rate=0.3, max_depth=3, n_estimators=100;, score=(train=0.877, test=0.865) total time=   3.6s\n",
      "[CV 4/5] END learning_rate=0.3, max_depth=3, n_estimators=100;, score=(train=0.877, test=0.865) total time=   3.5s\n",
      "[CV 5/5] END learning_rate=0.3, max_depth=3, n_estimators=100;, score=(train=0.875, test=0.871) total time=   4.7s\n",
      "[CV 1/5] END learning_rate=0.3, max_depth=3, n_estimators=300;, score=(train=0.892, test=0.859) total time=  12.9s\n",
      "[CV 2/5] END learning_rate=0.3, max_depth=3, n_estimators=300;, score=(train=0.892, test=0.857) total time=  11.5s\n",
      "[CV 3/5] END learning_rate=0.3, max_depth=3, n_estimators=300;, score=(train=0.891, test=0.861) total time=  12.5s\n",
      "[CV 4/5] END learning_rate=0.3, max_depth=3, n_estimators=300;, score=(train=0.891, test=0.861) total time=  11.6s\n",
      "[CV 5/5] END learning_rate=0.3, max_depth=3, n_estimators=300;, score=(train=0.890, test=0.868) total time=  11.9s\n",
      "[CV 1/5] END learning_rate=0.3, max_depth=4, n_estimators=30;, score=(train=0.874, test=0.861) total time=   1.1s\n",
      "[CV 2/5] END learning_rate=0.3, max_depth=4, n_estimators=30;, score=(train=0.874, test=0.861) total time=   2.0s\n",
      "[CV 3/5] END learning_rate=0.3, max_depth=4, n_estimators=30;, score=(train=0.874, test=0.864) total time=   1.9s\n",
      "[CV 4/5] END learning_rate=0.3, max_depth=4, n_estimators=30;, score=(train=0.873, test=0.865) total time=   1.9s\n",
      "[CV 5/5] END learning_rate=0.3, max_depth=4, n_estimators=30;, score=(train=0.871, test=0.870) total time=   1.0s\n",
      "[CV 1/5] END learning_rate=0.3, max_depth=4, n_estimators=100;, score=(train=0.886, test=0.860) total time=   5.8s\n",
      "[CV 2/5] END learning_rate=0.3, max_depth=4, n_estimators=100;, score=(train=0.887, test=0.860) total time=   4.8s\n",
      "[CV 3/5] END learning_rate=0.3, max_depth=4, n_estimators=100;, score=(train=0.886, test=0.863) total time=   6.1s\n",
      "[CV 4/5] END learning_rate=0.3, max_depth=4, n_estimators=100;, score=(train=0.884, test=0.863) total time=   4.7s\n",
      "[CV 5/5] END learning_rate=0.3, max_depth=4, n_estimators=100;, score=(train=0.884, test=0.870) total time=   5.8s\n",
      "[CV 1/5] END learning_rate=0.3, max_depth=4, n_estimators=300;, score=(train=0.910, test=0.855) total time=  16.1s\n",
      "[CV 2/5] END learning_rate=0.3, max_depth=4, n_estimators=300;, score=(train=0.911, test=0.855) total time=  15.7s\n",
      "[CV 3/5] END learning_rate=0.3, max_depth=4, n_estimators=300;, score=(train=0.910, test=0.858) total time=  15.7s\n",
      "[CV 4/5] END learning_rate=0.3, max_depth=4, n_estimators=300;, score=(train=0.909, test=0.858) total time=  15.7s\n",
      "[CV 5/5] END learning_rate=0.3, max_depth=4, n_estimators=300;, score=(train=0.908, test=0.865) total time=  16.9s\n",
      "[CV 1/5] END learning_rate=0.3, max_depth=5, n_estimators=30;, score=(train=0.880, test=0.862) total time=   2.5s\n",
      "[CV 2/5] END learning_rate=0.3, max_depth=5, n_estimators=30;, score=(train=0.879, test=0.859) total time=   2.1s\n",
      "[CV 3/5] END learning_rate=0.3, max_depth=5, n_estimators=30;, score=(train=0.879, test=0.864) total time=   1.6s\n",
      "[CV 4/5] END learning_rate=0.3, max_depth=5, n_estimators=30;, score=(train=0.879, test=0.864) total time=   2.4s\n",
      "[CV 5/5] END learning_rate=0.3, max_depth=5, n_estimators=30;, score=(train=0.877, test=0.869) total time=   1.7s\n",
      "[CV 1/5] END learning_rate=0.3, max_depth=5, n_estimators=100;, score=(train=0.900, test=0.859) total time=   7.1s\n",
      "[CV 2/5] END learning_rate=0.3, max_depth=5, n_estimators=100;, score=(train=0.897, test=0.857) total time=   6.4s\n",
      "[CV 3/5] END learning_rate=0.3, max_depth=5, n_estimators=100;, score=(train=0.896, test=0.861) total time=   6.3s\n",
      "[CV 4/5] END learning_rate=0.3, max_depth=5, n_estimators=100;, score=(train=0.896, test=0.860) total time=   7.6s\n",
      "[CV 5/5] END learning_rate=0.3, max_depth=5, n_estimators=100;, score=(train=0.893, test=0.868) total time=   6.4s\n",
      "[CV 1/5] END learning_rate=0.3, max_depth=5, n_estimators=300;, score=(train=0.932, test=0.851) total time=  19.6s\n",
      "[CV 2/5] END learning_rate=0.3, max_depth=5, n_estimators=300;, score=(train=0.931, test=0.848) total time=  19.8s\n",
      "[CV 3/5] END learning_rate=0.3, max_depth=5, n_estimators=300;, score=(train=0.930, test=0.851) total time=  18.7s\n",
      "[CV 4/5] END learning_rate=0.3, max_depth=5, n_estimators=300;, score=(train=0.931, test=0.852) total time=  19.8s\n",
      "[CV 5/5] END learning_rate=0.3, max_depth=5, n_estimators=300;, score=(train=0.929, test=0.859) total time=  19.7s\n"
     ]
    },
    {
     "data": {
      "text/plain": [
       "GridSearchCV(cv=5,\n",
       "             estimator=XGBClassifier(base_score=0.5, booster='gbtree',\n",
       "                                     colsample_bylevel=1, colsample_bynode=1,\n",
       "                                     colsample_bytree=1,\n",
       "                                     enable_categorical=False,\n",
       "                                     eval_metric='logloss', gamma=0, gpu_id=-1,\n",
       "                                     importance_type=None,\n",
       "                                     interaction_constraints='',\n",
       "                                     learning_rate=0.300000012,\n",
       "                                     max_delta_step=0, max_depth=6,\n",
       "                                     min_child_weight=1, missing=nan,\n",
       "                                     monotone_constraint...\n",
       "                                     n_estimators=100, n_jobs=8,\n",
       "                                     num_parallel_tree=1, predictor='auto',\n",
       "                                     random_state=0, reg_alpha=0, reg_lambda=1,\n",
       "                                     scale_pos_weight=1, subsample=1,\n",
       "                                     tree_method='exact',\n",
       "                                     use_label_encoder=False,\n",
       "                                     validate_parameters=1, verbosity=None),\n",
       "             param_grid=[{'learning_rate': [0.03, 0.1, 0.3],\n",
       "                          'max_depth': [3, 4, 5],\n",
       "                          'n_estimators': [30, 100, 300]}],\n",
       "             return_train_score=True, scoring='roc_auc', verbose=3)"
      ]
     },
     "execution_count": 151,
     "metadata": {},
     "output_type": "execute_result"
    }
   ],
   "source": [
    "grid_search = GridSearchCV(xgb_class, param_grid, cv=5,\n",
    "                           scoring='roc_auc', return_train_score=True,\n",
    "                           refit=True, verbose=3)\n",
    "grid_search.fit(X, y)"
   ]
  },
  {
   "cell_type": "code",
   "execution_count": 152,
   "id": "5ddc33a8",
   "metadata": {},
   "outputs": [
    {
     "data": {
      "text/plain": [
       "XGBClassifier(base_score=0.5, booster='gbtree', colsample_bylevel=1,\n",
       "              colsample_bynode=1, colsample_bytree=1, enable_categorical=False,\n",
       "              eval_metric='logloss', gamma=0, gpu_id=-1, importance_type=None,\n",
       "              interaction_constraints='', learning_rate=0.1, max_delta_step=0,\n",
       "              max_depth=3, min_child_weight=1, missing=nan,\n",
       "              monotone_constraints='()', n_estimators=300, n_jobs=8,\n",
       "              num_parallel_tree=1, predictor='auto', random_state=0,\n",
       "              reg_alpha=0, reg_lambda=1, scale_pos_weight=1, subsample=1,\n",
       "              tree_method='exact', use_label_encoder=False,\n",
       "              validate_parameters=1, verbosity=None)"
      ]
     },
     "execution_count": 152,
     "metadata": {},
     "output_type": "execute_result"
    }
   ],
   "source": [
    "grid_search.best_estimator_"
   ]
  },
  {
   "cell_type": "code",
   "execution_count": 153,
   "id": "adfe30a5",
   "metadata": {},
   "outputs": [],
   "source": [
    "LEARNING_RATE = 0.1\n",
    "MAX_DEPTH = 3\n",
    "N_ESTIMATORS = 300"
   ]
  },
  {
   "cell_type": "code",
   "execution_count": 159,
   "id": "a27dca01",
   "metadata": {},
   "outputs": [
    {
     "data": {
      "text/plain": [
       "XGBClassifier(base_score=0.5, booster='gbtree', colsample_bylevel=1,\n",
       "              colsample_bynode=1, colsample_bytree=1, enable_categorical=False,\n",
       "              eval_metric='logloss', gamma=0, gpu_id=-1, importance_type=None,\n",
       "              interaction_constraints='', learning_rate=0.1, max_delta_step=0,\n",
       "              max_depth=3, min_child_weight=1, missing=nan,\n",
       "              monotone_constraints='()', n_estimators=300, n_jobs=8,\n",
       "              num_parallel_tree=1, predictor='auto', random_state=0,\n",
       "              reg_alpha=0, reg_lambda=1, scale_pos_weight=1, subsample=1,\n",
       "              tree_method='exact', use_label_encoder=False,\n",
       "              validate_parameters=1, verbosity=None)"
      ]
     },
     "execution_count": 159,
     "metadata": {},
     "output_type": "execute_result"
    }
   ],
   "source": [
    "xgb_fine = XGBClassifier(learning_rate=LEARNING_RATE,\n",
    "                         max_depth=MAX_DEPTH,\n",
    "                         n_estimators=N_ESTIMATORS,\n",
    "                         use_label_encoder=False,\n",
    "                        eval_metric='logloss')\n",
    "\n",
    "xgb_fine.fit(X, y)"
   ]
  },
  {
   "cell_type": "code",
   "execution_count": 165,
   "id": "86fe757c",
   "metadata": {},
   "outputs": [
    {
     "data": {
      "text/plain": [
       "0.8756413348013669"
      ]
     },
     "execution_count": 165,
     "metadata": {},
     "output_type": "execute_result"
    }
   ],
   "source": [
    "predict = xgb_fine.predict_proba(X)\n",
    "roc_auc_score(y, predict[:,1])"
   ]
  },
  {
   "cell_type": "code",
   "execution_count": 167,
   "id": "ea8b942f",
   "metadata": {},
   "outputs": [
    {
     "data": {
      "image/png": "[encoded data removed]",
      "text/plain": [
       "<Figure size 432x288 with 1 Axes>"
      ]
     },
     "metadata": {
      "needs_background": "light"
     },
     "output_type": "display_data"
    }
   ],
   "source": [
    "plot_importance(xgb_fine)\n",
    "plt.show()"
   ]
  },
  {
   "cell_type": "markdown",
   "id": "bb3c0386",
   "metadata": {},
   "source": [
    "# Feature Engineering"
   ]
  },
  {
   "cell_type": "code",
   "execution_count": 9,
   "id": "e42fcdb4",
   "metadata": {},
   "outputs": [],
   "source": [
    "X = raw_df.copy().drop(columns='SeriousDlqin2yrs')\n",
    "y = raw_df['SeriousDlqin2yrs']"
   ]
  },
  {
   "cell_type": "code",
   "execution_count": 10,
   "id": "bf07322a",
   "metadata": {},
   "outputs": [],
   "source": [
    "age_ix, dep_ix = 0, 6\n",
    "\n",
    "class CatTransformer(BaseEstimator, TransformerMixin):\n",
    "    def fit(self, X, y=None):\n",
    "        return self\n",
    "    def transform(self, X):\n",
    "        X[X[:, age_ix] < 18] = 18\n",
    "        dependents_per_age = X[:, dep_ix]/X[:, age_ix]\n",
    "        return np.c_[X, dependents_per_age]"
   ]
  },
  {
   "cell_type": "code",
   "execution_count": 54,
   "id": "7a076224",
   "metadata": {},
   "outputs": [],
   "source": [
    "rev_ix, debt_ix, inc_ix = 0, 1, 2 \n",
    "\n",
    "class NumTransformer(BaseEstimator, TransformerMixin):\n",
    "    def fit(self, X, y=None):\n",
    "        return self\n",
    "    def transform(self, X):\n",
    "        X[X[:, debt_ix] > 3500] = 3500\n",
    "        return np.c_[X]"
   ]
  },
  {
   "cell_type": "code",
   "execution_count": 55,
   "id": "5df9cebe",
   "metadata": {},
   "outputs": [],
   "source": [
    "STRAT_IMPUTER_NUM = \"median\"\n",
    "STRAT_IMPUTER_CAT = \"most_frequent\"\n",
    "\n",
    "num_pipeline = Pipeline([\n",
    "    ('imputer', SimpleImputer(strategy=STRAT_IMPUTER_NUM)),\n",
    "    ('adder', NumTransformer()),\n",
    "    ('std_scaler', StandardScaler())\n",
    "])\n",
    "\n",
    "cat_pipeline = Pipeline([\n",
    "    ('imputer', SimpleImputer(strategy=STRAT_IMPUTER_CAT)),    \n",
    "    ('adder', CatTransformer())\n",
    "])"
   ]
  },
  {
   "cell_type": "code",
   "execution_count": 56,
   "id": "b5822b91",
   "metadata": {},
   "outputs": [],
   "source": [
    "cat_features = ['age', 'NumberOfTime30-59DaysPastDueNotWorse',\n",
    "                                     'NumberOfOpenCreditLinesAndLoans', 'NumberOfTimes90DaysLate',\n",
    "                                     'NumberRealEstateLoansOrLines', 'NumberOfTime60-89DaysPastDueNotWorse',\n",
    "                                     'NumberOfDependents']\n",
    "\n",
    "num_features = ['RevolvingUtilizationOfUnsecuredLines', 'DebtRatio', 'MonthlyIncome']\n",
    "\n",
    "transformer_pipeline = ColumnTransformer([\n",
    "    (\"num\", num_pipeline, num_features),\n",
    "    (\"cat\", cat_pipeline, cat_features),\n",
    "]) "
   ]
  },
  {
   "cell_type": "code",
   "execution_count": 57,
   "id": "8cc4ba87",
   "metadata": {},
   "outputs": [],
   "source": [
    "X_prepared = pd.DataFrame(transformer_pipeline.fit_transform(X))"
   ]
  },
  {
   "cell_type": "code",
   "execution_count": 58,
   "id": "f099a569",
   "metadata": {},
   "outputs": [
    {
     "data": {
      "text/html": [
       "<div>\n",
       "<style scoped>\n",
       "    .dataframe tbody tr th:only-of-type {\n",
       "        vertical-align: middle;\n",
       "    }\n",
       "\n",
       "    .dataframe tbody tr th {\n",
       "        vertical-align: top;\n",
       "    }\n",
       "\n",
       "    .dataframe thead th {\n",
       "        text-align: right;\n",
       "    }\n",
       "</style>\n",
       "<table border=\"1\" class=\"dataframe\">\n",
       "  <thead>\n",
       "    <tr style=\"text-align: right;\">\n",
       "      <th></th>\n",
       "      <th>0</th>\n",
       "      <th>1</th>\n",
       "      <th>2</th>\n",
       "      <th>3</th>\n",
       "      <th>4</th>\n",
       "      <th>5</th>\n",
       "      <th>6</th>\n",
       "      <th>7</th>\n",
       "      <th>8</th>\n",
       "      <th>9</th>\n",
       "      <th>10</th>\n",
       "    </tr>\n",
       "  </thead>\n",
       "  <tbody>\n",
       "    <tr>\n",
       "      <th>0</th>\n",
       "      <td>-0.153952</td>\n",
       "      <td>-0.364951</td>\n",
       "      <td>0.212631</td>\n",
       "      <td>45.0</td>\n",
       "      <td>2.0</td>\n",
       "      <td>13.0</td>\n",
       "      <td>0.0</td>\n",
       "      <td>6.0</td>\n",
       "      <td>0.0</td>\n",
       "      <td>2.0</td>\n",
       "      <td>0.044444</td>\n",
       "    </tr>\n",
       "    <tr>\n",
       "      <th>1</th>\n",
       "      <td>-0.153631</td>\n",
       "      <td>-0.365802</td>\n",
       "      <td>-0.292969</td>\n",
       "      <td>40.0</td>\n",
       "      <td>0.0</td>\n",
       "      <td>4.0</td>\n",
       "      <td>0.0</td>\n",
       "      <td>0.0</td>\n",
       "      <td>0.0</td>\n",
       "      <td>1.0</td>\n",
       "      <td>0.025000</td>\n",
       "    </tr>\n",
       "    <tr>\n",
       "      <th>2</th>\n",
       "      <td>-0.154133</td>\n",
       "      <td>-0.365848</td>\n",
       "      <td>-0.258693</td>\n",
       "      <td>38.0</td>\n",
       "      <td>1.0</td>\n",
       "      <td>2.0</td>\n",
       "      <td>1.0</td>\n",
       "      <td>0.0</td>\n",
       "      <td>0.0</td>\n",
       "      <td>0.0</td>\n",
       "      <td>0.000000</td>\n",
       "    </tr>\n",
       "    <tr>\n",
       "      <th>3</th>\n",
       "      <td>-0.154846</td>\n",
       "      <td>-0.365910</td>\n",
       "      <td>-0.238686</td>\n",
       "      <td>30.0</td>\n",
       "      <td>0.0</td>\n",
       "      <td>5.0</td>\n",
       "      <td>0.0</td>\n",
       "      <td>0.0</td>\n",
       "      <td>0.0</td>\n",
       "      <td>0.0</td>\n",
       "      <td>0.000000</td>\n",
       "    </tr>\n",
       "    <tr>\n",
       "      <th>4</th>\n",
       "      <td>-0.153715</td>\n",
       "      <td>-0.365924</td>\n",
       "      <td>4.436408</td>\n",
       "      <td>49.0</td>\n",
       "      <td>1.0</td>\n",
       "      <td>7.0</td>\n",
       "      <td>0.0</td>\n",
       "      <td>1.0</td>\n",
       "      <td>0.0</td>\n",
       "      <td>0.0</td>\n",
       "      <td>0.000000</td>\n",
       "    </tr>\n",
       "    <tr>\n",
       "      <th>...</th>\n",
       "      <td>...</td>\n",
       "      <td>...</td>\n",
       "      <td>...</td>\n",
       "      <td>...</td>\n",
       "      <td>...</td>\n",
       "      <td>...</td>\n",
       "      <td>...</td>\n",
       "      <td>...</td>\n",
       "      <td>...</td>\n",
       "      <td>...</td>\n",
       "      <td>...</td>\n",
       "    </tr>\n",
       "    <tr>\n",
       "      <th>149995</th>\n",
       "      <td>-0.155171</td>\n",
       "      <td>-0.365673</td>\n",
       "      <td>-0.331742</td>\n",
       "      <td>74.0</td>\n",
       "      <td>0.0</td>\n",
       "      <td>4.0</td>\n",
       "      <td>0.0</td>\n",
       "      <td>1.0</td>\n",
       "      <td>0.0</td>\n",
       "      <td>0.0</td>\n",
       "      <td>0.000000</td>\n",
       "    </tr>\n",
       "    <tr>\n",
       "      <th>149996</th>\n",
       "      <td>-0.154736</td>\n",
       "      <td>-0.365059</td>\n",
       "      <td>-0.061571</td>\n",
       "      <td>44.0</td>\n",
       "      <td>0.0</td>\n",
       "      <td>4.0</td>\n",
       "      <td>0.0</td>\n",
       "      <td>1.0</td>\n",
       "      <td>0.0</td>\n",
       "      <td>2.0</td>\n",
       "      <td>0.045455</td>\n",
       "    </tr>\n",
       "    <tr>\n",
       "      <th>149997</th>\n",
       "      <td>5.723621</td>\n",
       "      <td>4.011995</td>\n",
       "      <td>-0.223177</td>\n",
       "      <td>58.0</td>\n",
       "      <td>0.0</td>\n",
       "      <td>18.0</td>\n",
       "      <td>0.0</td>\n",
       "      <td>1.0</td>\n",
       "      <td>0.0</td>\n",
       "      <td>0.0</td>\n",
       "      <td>0.000000</td>\n",
       "    </tr>\n",
       "    <tr>\n",
       "      <th>149998</th>\n",
       "      <td>-0.155239</td>\n",
       "      <td>-0.365955</td>\n",
       "      <td>-0.051335</td>\n",
       "      <td>30.0</td>\n",
       "      <td>0.0</td>\n",
       "      <td>4.0</td>\n",
       "      <td>0.0</td>\n",
       "      <td>0.0</td>\n",
       "      <td>0.0</td>\n",
       "      <td>0.0</td>\n",
       "      <td>0.000000</td>\n",
       "    </tr>\n",
       "    <tr>\n",
       "      <th>149999</th>\n",
       "      <td>-0.153811</td>\n",
       "      <td>-0.365642</td>\n",
       "      <td>0.138032</td>\n",
       "      <td>64.0</td>\n",
       "      <td>0.0</td>\n",
       "      <td>8.0</td>\n",
       "      <td>0.0</td>\n",
       "      <td>2.0</td>\n",
       "      <td>0.0</td>\n",
       "      <td>0.0</td>\n",
       "      <td>0.000000</td>\n",
       "    </tr>\n",
       "  </tbody>\n",
       "</table>\n",
       "<p>150000 rows × 11 columns</p>\n",
       "</div>"
      ],
      "text/plain": [
       "              0         1         2     3    4     5    6    7    8    9   \\\n",
       "0      -0.153952 -0.364951  0.212631  45.0  2.0  13.0  0.0  6.0  0.0  2.0   \n",
       "1      -0.153631 -0.365802 -0.292969  40.0  0.0   4.0  0.0  0.0  0.0  1.0   \n",
       "2      -0.154133 -0.365848 -0.258693  38.0  1.0   2.0  1.0  0.0  0.0  0.0   \n",
       "3      -0.154846 -0.365910 -0.238686  30.0  0.0   5.0  0.0  0.0  0.0  0.0   \n",
       "4      -0.153715 -0.365924  4.436408  49.0  1.0   7.0  0.0  1.0  0.0  0.0   \n",
       "...          ...       ...       ...   ...  ...   ...  ...  ...  ...  ...   \n",
       "149995 -0.155171 -0.365673 -0.331742  74.0  0.0   4.0  0.0  1.0  0.0  0.0   \n",
       "149996 -0.154736 -0.365059 -0.061571  44.0  0.0   4.0  0.0  1.0  0.0  2.0   \n",
       "149997  5.723621  4.011995 -0.223177  58.0  0.0  18.0  0.0  1.0  0.0  0.0   \n",
       "149998 -0.155239 -0.365955 -0.051335  30.0  0.0   4.0  0.0  0.0  0.0  0.0   \n",
       "149999 -0.153811 -0.365642  0.138032  64.0  0.0   8.0  0.0  2.0  0.0  0.0   \n",
       "\n",
       "              10  \n",
       "0       0.044444  \n",
       "1       0.025000  \n",
       "2       0.000000  \n",
       "3       0.000000  \n",
       "4       0.000000  \n",
       "...          ...  \n",
       "149995  0.000000  \n",
       "149996  0.045455  \n",
       "149997  0.000000  \n",
       "149998  0.000000  \n",
       "149999  0.000000  \n",
       "\n",
       "[150000 rows x 11 columns]"
      ]
     },
     "execution_count": 58,
     "metadata": {},
     "output_type": "execute_result"
    }
   ],
   "source": [
    "X_prepared"
   ]
  },
  {
   "cell_type": "code",
   "execution_count": 59,
   "id": "d93ff492",
   "metadata": {},
   "outputs": [],
   "source": [
    "LEARNING_RATE = 0.1\n",
    "MAX_DEPTH = 3\n",
    "N_ESTIMATORS = 300\n",
    "EVAL_METRIC = 'logloss'\n",
    "\n",
    "model = XGBClassifier(learning_rate=LEARNING_RATE,\n",
    "                         max_depth=MAX_DEPTH,\n",
    "                         n_estimators=N_ESTIMATORS,\n",
    "                         use_label_encoder=False,\n",
    "                        eval_metric=EVAL_METRIC)"
   ]
  },
  {
   "cell_type": "code",
   "execution_count": 60,
   "id": "6b4e731f",
   "metadata": {},
   "outputs": [],
   "source": [
    "pipeline = Pipeline(steps=[('transformer', transformer_pipeline),\n",
    "                           ('model',model)])\n"
   ]
  },
  {
   "cell_type": "code",
   "execution_count": null,
   "id": "49a28a00",
   "metadata": {},
   "outputs": [],
   "source": [
    "pipeline.fit(X, y)"
   ]
  },
  {
   "cell_type": "code",
   "execution_count": null,
   "id": "8f314878",
   "metadata": {},
   "outputs": [],
   "source": [
    "y_pred = pipeline.predict_proba(X)"
   ]
  },
  {
   "cell_type": "code",
   "execution_count": 53,
   "id": "e1f4572c",
   "metadata": {},
   "outputs": [
    {
     "data": {
      "text/plain": [
       "0.8716039944308029"
      ]
     },
     "execution_count": 53,
     "metadata": {},
     "output_type": "execute_result"
    }
   ],
   "source": [
    "roc_auc_score(y, y_pred[:,1])"
   ]
  },
  {
   "cell_type": "code",
   "execution_count": null,
   "id": "15ae7dc7",
   "metadata": {},
   "outputs": [],
   "source": []
  },
  {
   "cell_type": "code",
   "execution_count": null,
   "id": "bbf89335",
   "metadata": {},
   "outputs": [],
   "source": []
  }
 ],
 "metadata": {
  "kernelspec": {
   "display_name": "Python 3 (ipykernel)",
   "language": "python",
   "name": "python3"
  },
  "language_info": {
   "codemirror_mode": {
    "name": "ipython",
    "version": 3
   },
   "file_extension": ".py",
   "mimetype": "text/x-python",
   "name": "python",
   "nbconvert_exporter": "python",
   "pygments_lexer": "ipython3",
   "version": "3.9.7"
  }
 },
 "nbformat": 4,
 "nbformat_minor": 5
}
